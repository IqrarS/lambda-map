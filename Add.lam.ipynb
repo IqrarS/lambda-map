{
 "cells": [
  {
   "cell_type": "code",
   "execution_count": 4,
   "id": "aa93d66e",
   "metadata": {},
   "outputs": [
    {
     "name": "stdout",
     "output_type": "stream",
     "text": [
      "Sample input : 10\n",
      "Sample output : 35\n"
     ]
    }
   ],
   "source": [
    "x = 10\n",
    "print (\"Sample input :\",x)\n",
    "y = 25\n",
    "l = lambda x,y : x + y\n",
    "print(\"Sample output :\",l(x,y))"
   ]
  }
 ],
 "metadata": {
  "kernelspec": {
   "display_name": "Python 3 (ipykernel)",
   "language": "python",
   "name": "python3"
  },
  "language_info": {
   "codemirror_mode": {
    "name": "ipython",
    "version": 3
   },
   "file_extension": ".py",
   "mimetype": "text/x-python",
   "name": "python",
   "nbconvert_exporter": "python",
   "pygments_lexer": "ipython3",
   "version": "3.9.13"
  }
 },
 "nbformat": 4,
 "nbformat_minor": 5
}
